{
 "cells": [
  {
   "cell_type": "markdown",
   "metadata": {},
   "source": [
    "Ejercicio 1.- Trabajar con argumentos de funciones. "
   ]
  },
  {
   "cell_type": "code",
   "execution_count": 185,
   "metadata": {},
   "outputs": [],
   "source": [
    "def reporte_combustible(l1,l2,l3):\n",
    "    promedio=(l2+l3+l1)/3\n",
    "    return f\"\\nReporte de combustible:\\nPrimera lectura:{l1}\\nSegunda lectura:{l2}\\nTercera Lectura:{l3}\\nEl promedio de combustible es: {promedio}\""
   ]
  },
  {
   "cell_type": "code",
   "execution_count": 186,
   "metadata": {},
   "outputs": [
    {
     "name": "stdout",
     "output_type": "stream",
     "text": [
      "\n",
      "Reporte de combustible:\n",
      "Primera lectura:2\n",
      "Segunda lectura:3\n",
      "Tercera Lectura:4\n",
      "El promedio de combustible es: 3.0\n"
     ]
    }
   ],
   "source": [
    "print(reporte_combustible(l1=2,l2=3,l3=4))"
   ]
  },
  {
   "cell_type": "code",
   "execution_count": 187,
   "metadata": {},
   "outputs": [],
   "source": [
    "def promedio_funcion(l4, l5, l6):\n",
    "    suma=l4+l5+l6\n",
    "    num_lecturas=3\n",
    "    return suma/num_lecturas\n"
   ]
  },
  {
   "cell_type": "code",
   "execution_count": 188,
   "metadata": {},
   "outputs": [],
   "source": [
    "def reporte_combustibles(l4,l5,l6):\n",
    "    return f\"\\nReporte de combustible:\\nPrimera lectura:{l4}\\nSegunda lectura:{l5}\\nTercera Lectura:{l6}\\nEl promedio de combustible es: {promedio_funcion(l4,l5,l6)}\""
   ]
  },
  {
   "cell_type": "code",
   "execution_count": 189,
   "metadata": {},
   "outputs": [
    {
     "name": "stdout",
     "output_type": "stream",
     "text": [
      "\n",
      "Reporte de combustible:\n",
      "Primera lectura:20\n",
      "Segunda lectura:10\n",
      "Tercera Lectura:30\n",
      "El promedio de combustible es: 20.0\n"
     ]
    }
   ],
   "source": [
    "print(reporte_combustibles(l4=20,l5=10,l6=30))"
   ]
  },
  {
   "cell_type": "markdown",
   "metadata": {},
   "source": [
    "Ejercicio 2.- Trabajos con argumentos de palabra clave. "
   ]
  },
  {
   "cell_type": "code",
   "execution_count": 190,
   "metadata": {},
   "outputs": [],
   "source": [
    "def informe(hora, tiempo, destino, tanqueE,tanqueI):\n",
    "    return f\"\\nDestino:{destino}\\nTiempo de vuelo:{tiempo}\\nHora de prelanzamiento:{hora}\\nTanque externo:{tanqueE}\\nTanque interno:{tanqueI}\""
   ]
  },
  {
   "cell_type": "code",
   "execution_count": 191,
   "metadata": {},
   "outputs": [
    {
     "name": "stdout",
     "output_type": "stream",
     "text": [
      "\n",
      "Destino:Naboo\n",
      "Tiempo de vuelo:51\n",
      "Hora de prelanzamiento:14\n",
      "Tanque externo:5200\n",
      "Tanque interno:8384\n"
     ]
    }
   ],
   "source": [
    "print(informe(14,51,\"Naboo\",5200,8384))"
   ]
  },
  {
   "cell_type": "code",
   "execution_count": 192,
   "metadata": {},
   "outputs": [
    {
     "name": "stdout",
     "output_type": "stream",
     "text": [
      "\n",
      "Destino: Tatooine\n",
      "Tiempo total de viaje: 30 minutos.\n",
      "Combustible en los tanques: 4680\n"
     ]
    }
   ],
   "source": [
    "def informar(dest,*minutes,**fuel_reservoirs):\n",
    "    return f\"\\nDestino: {dest}\\nTiempo total de viaje: {sum(minutes)} minutos.\\nCombustible en los tanques: {sum(fuel_reservoirs.values())}\"\n",
    "print(informar(\"Tatooine\", 9,10,11, t1=80, t2=4000,t3=600))\n"
   ]
  },
  {
   "cell_type": "code",
   "execution_count": 193,
   "metadata": {},
   "outputs": [
    {
     "name": "stdout",
     "output_type": "stream",
     "text": [
      "\n",
      "Destino: Camino\n",
      "Tiempo total de viaje: 74 minutos.\n",
      "Combustible total en los tanques: 500000\n",
      "main tank: 300000 galones disponibles\n",
      "external tank: 200000 galones disponibles\n",
      "\n"
     ]
    }
   ],
   "source": [
    "def informes(destination,*minutes,**fuel_reservoirs):\n",
    "    salida= f\"\\nDestino: {destination}\\nTiempo total de viaje: {sum(minutes)} minutos.\\nCombustible total en los tanques: {sum(fuel_reservoirs.values())}\\n\"\n",
    "    for tanque, galones in fuel_reservoirs.items():\n",
    "        salida += f\"{tanque} tank: {galones} galones disponibles\\n\"\n",
    "    return salida\n",
    "\n",
    "print(informes(\"Camino\", 8, 11, 55, tanque1=300000, tanque2=200000))\n"
   ]
  }
 ],
 "metadata": {
  "interpreter": {
   "hash": "d94258037122a2312c9306c6e55d956ff9f209b3c2fa5e4a381cc7d7ac72683b"
  },
  "kernelspec": {
   "display_name": "Python 3.10.2 64-bit (windows store)",
   "language": "python",
   "name": "python3"
  },
  "language_info": {
   "codemirror_mode": {
    "name": "ipython",
    "version": 3
   },
   "file_extension": ".py",
   "mimetype": "text/x-python",
   "name": "python",
   "nbconvert_exporter": "python",
   "pygments_lexer": "ipython3",
   "version": "3.10.2"
  },
  "orig_nbformat": 4
 },
 "nbformat": 4,
 "nbformat_minor": 2
}
