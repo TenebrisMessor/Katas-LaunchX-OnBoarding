{
 "cells": [
  {
   "cell_type": "markdown",
   "metadata": {},
   "source": [
    "Problema 1\n",
    "Un asteroide se acerca, y viaja a una velocidad de 49 km/s."
   ]
  },
  {
   "cell_type": "code",
   "execution_count": 1,
   "metadata": {},
   "outputs": [
    {
     "name": "stdout",
     "output_type": "stream",
     "text": [
      "Advertencia de posible implosion de asteroide con la tierra\n"
     ]
    }
   ],
   "source": [
    "a= 49\n",
    "if a>25:\n",
    "    print(\"Advertencia de posible implosion de asteroide con la tierra\")\n",
    "else:\n",
    "    print(\"Se acerca un asteroide que pasara cerca de la tierra sin implosionar con ella\")"
   ]
  },
  {
   "cell_type": "markdown",
   "metadata": {},
   "source": [
    "Problema 2\n",
    "Si un asteroide entra en la atmósfera de la Tierra a una velocidad mayor o igual a 20 km/s, a veces produce un rayo de luz que se puede ver desde la Tierra. Escribe la lógica condicional que usa declaraciones if, else, y elif para alertar a las personas de todo el mundo que deben buscar un asteroide en el cielo. ¡Hay uno que se dirige a la tierra ahora a una velocidad de 19 km/s!"
   ]
  },
  {
   "cell_type": "code",
   "execution_count": 2,
   "metadata": {},
   "outputs": [
    {
     "name": "stdout",
     "output_type": "stream",
     "text": [
      "El asteroide que pasará cerca de la tierra no sera visible\n"
     ]
    }
   ],
   "source": [
    "r=19\n",
    "if r>20:\n",
    "    print(\"Asteroide dirigiendose a la tierra buscar en el  cielo un rayo de luz producido por la velocidad del mismo\")\n",
    "elif r==20:\n",
    "    print(\"Asteroide dirigiendose a la tierra buscar en el  cielo un rayo de luz producido por la velocidad del mismo\")\n",
    "else:\n",
    "    print(\"El asteroide que pasará cerca de la tierra no sera visible\")"
   ]
  },
  {
   "cell_type": "markdown",
   "metadata": {},
   "source": [
    "Problema 3. *Los asteroides de menos de 25 metros en su dimensión más grande probablemente se quemarán a medida que entren en la atmósfera de la Tierra.\n",
    "\n",
    "Si una pieza de un asteroide que es más grande que 25 metros pero más pequeña que 1000 metros golpeara la Tierra, causaría mucho daño.\n",
    "También discutimos en el ejercicio anterior que:\n",
    "\n",
    "La velocidad del asteroide varía en función de lo cerca que esté del sol, y cualquier velocidad superior a 25 kilómetros por segundo (km/s) merece una advertencia.\n",
    "Si un asteroide entra en la atmósfera de la Tierra a una velocidad mayor o igual a 20 km/s, a veces produce un rayo de luz que se puede ver desde la Tierra.\n",
    "Usando toda esta información, escribe un programa que emita la advertencia o información correcta a la gente de la Tierra, según la velocidad y el tamaño de un asteroide. Utiliza instrucciones if, else, y elif, así como los operadores and y or. "
   ]
  },
  {
   "cell_type": "code",
   "execution_count": 3,
   "metadata": {},
   "outputs": [
    {
     "name": "stdout",
     "output_type": "stream",
     "text": [
      "Asteroide dirigiendose a la tierra con seguridad de impacto, tomar precausiones\n"
     ]
    }
   ],
   "source": [
    "v= 26\n",
    "t= 25\n",
    "if t>=25 and v>25:\n",
    "    print(\"Asteroide dirigiendose a la tierra con seguridad de impacto, tomar precausiones\")\n",
    "elif v>=20:\n",
    "    print(\"Asteroide dirigiendose a la tierra buscar en el  cielo un rayo de luz producido por la velocidad del mismo\")\n",
    "elif t<25:\n",
    "    print(\"Un asteroide se dirige a la tierra sin probabilidad de impacto\")\n",
    "else: \n",
    "    print(\"Un asteroide se dirige a la tierra sin probabilidad de impacto\")"
   ]
  }
 ],
 "metadata": {
  "interpreter": {
   "hash": "5dbfd558697415aff553bdce37ffa10cef4b45fe6bb8aec2bb0cb704b97b641d"
  },
  "kernelspec": {
   "display_name": "Python 3.10.2 64-bit",
   "language": "python",
   "name": "python3"
  },
  "language_info": {
   "codemirror_mode": {
    "name": "ipython",
    "version": 3
   },
   "file_extension": ".py",
   "mimetype": "text/x-python",
   "name": "python",
   "nbconvert_exporter": "python",
   "pygments_lexer": "ipython3",
   "version": "3.10.2"
  },
  "orig_nbformat": 4
 },
 "nbformat": 4,
 "nbformat_minor": 2
}
