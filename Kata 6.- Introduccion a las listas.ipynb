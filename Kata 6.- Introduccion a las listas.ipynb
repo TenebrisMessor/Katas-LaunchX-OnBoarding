{
 "cells": [
  {
   "cell_type": "markdown",
   "metadata": {},
   "source": [
    "Ejercicio 1.- Crear y ussar listas de Python."
   ]
  },
  {
   "cell_type": "code",
   "execution_count": 59,
   "metadata": {},
   "outputs": [
    {
     "name": "stdout",
     "output_type": "stream",
     "text": [
      "Hay 8 planetas en el sistema solar.\n"
     ]
    }
   ],
   "source": [
    "planets=['Mercurio', 'Venus', 'Tierra', 'Marte', 'Jupiter', 'Saturno', 'Urano', 'Neptuno']\n",
    "numplan= len(planets)\n",
    "print('Hay', numplan, 'planetas en el sistema solar.')\n"
   ]
  },
  {
   "cell_type": "code",
   "execution_count": 60,
   "metadata": {},
   "outputs": [
    {
     "name": "stdout",
     "output_type": "stream",
     "text": [
      "Hay 9 planetas en el sistema solar incluyendo a Plutón .\n"
     ]
    }
   ],
   "source": [
    "planet2= 'Plutón'\n",
    "planets.append(planet2)\n",
    "numplan2=len(planets)\n",
    "print('Hay', numplan2, 'planetas en el sistema solar incluyendo a', planet2, '.')\n"
   ]
  },
  {
   "cell_type": "markdown",
   "metadata": {},
   "source": [
    "Ejercicio 2.- Trabajando con datos de una lista."
   ]
  },
  {
   "cell_type": "code",
   "execution_count": 61,
   "metadata": {},
   "outputs": [],
   "source": [
    "planets=['Mercurio', 'Venus', 'Tierra', 'Marte', 'Jupiter', 'Saturno', 'Urano', 'Neptuno']"
   ]
  },
  {
   "cell_type": "code",
   "execution_count": 62,
   "metadata": {},
   "outputs": [],
   "source": [
    "x=input('Por favor introduce el nombre de un planeta empezando por una mayuscula')"
   ]
  },
  {
   "cell_type": "code",
   "execution_count": 63,
   "metadata": {},
   "outputs": [],
   "source": [
    "index_x=planets.index(x)"
   ]
  },
  {
   "cell_type": "code",
   "execution_count": 64,
   "metadata": {},
   "outputs": [
    {
     "name": "stdout",
     "output_type": "stream",
     "text": [
      "Los planetas mas cercanos al sol que Jupiter son: ['Mercurio', 'Venus', 'Tierra', 'Marte']\n",
      "Los planetas mas lejanos al sol que Jupiter son ['Saturno', 'Urano', 'Neptuno']\n"
     ]
    }
   ],
   "source": [
    "planetasC= planets[0:index_x]\n",
    "planetasL= planets[index_x+1:9]\n",
    "if planetasC==planets[0:0]:\n",
    "    print('No hay planetas mas cercanos al sol que Mercurio' )\n",
    "else:\n",
    "    print('Los planetas mas cercanos al sol que', x, 'son:', planetasC)\n",
    "if planetasL==planets[9:9]:\n",
    "    print('No hay planetas mas lejanos al sol en nuestro sistema solar que Neptuno')\n",
    "else:    \n",
    "    print('Los planetas mas lejanos al sol que', x, 'son', planetasL)\n"
   ]
  }
 ],
 "metadata": {
  "interpreter": {
   "hash": "d94258037122a2312c9306c6e55d956ff9f209b3c2fa5e4a381cc7d7ac72683b"
  },
  "kernelspec": {
   "display_name": "Python 3.10.2 64-bit (windows store)",
   "language": "python",
   "name": "python3"
  },
  "language_info": {
   "codemirror_mode": {
    "name": "ipython",
    "version": 3
   },
   "file_extension": ".py",
   "mimetype": "text/x-python",
   "name": "python",
   "nbconvert_exporter": "python",
   "pygments_lexer": "ipython3",
   "version": "3.10.2"
  },
  "orig_nbformat": 4
 },
 "nbformat": 4,
 "nbformat_minor": 2
}
