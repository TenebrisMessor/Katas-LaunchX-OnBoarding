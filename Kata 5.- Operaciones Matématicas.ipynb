{
 "cells": [
  {
   "cell_type": "markdown",
   "metadata": {},
   "source": [
    "Ejercicio 1.- Utilizar operadores aritmeticos."
   ]
  },
  {
   "cell_type": "code",
   "execution_count": 18,
   "metadata": {},
   "outputs": [],
   "source": [
    "tierra=149597870\n",
    "jupiter=778547200"
   ]
  },
  {
   "cell_type": "code",
   "execution_count": 19,
   "metadata": {},
   "outputs": [
    {
     "name": "stdout",
     "output_type": "stream",
     "text": [
      "La distancia entre jupiter y la tierra en kilometros es 628949330 Km\n",
      "La distancia entre jupiter y la tierra en millas es 390577534 mi\n"
     ]
    }
   ],
   "source": [
    "distancia=jupiter-tierra\n",
    "dmillas= distancia*0.621\n",
    "bmillas=round(dmillas)\n",
    "print('La distancia entre jupiter y la tierra en kilometros es', abs(distancia),'Km')\n",
    "print(\"La distancia entre jupiter y la tierra en millas es\", abs(bmillas),\"mi\")"
   ]
  },
  {
   "cell_type": "markdown",
   "metadata": {},
   "source": [
    "Ejercicio 2.- Convierte caenas en números y usa valores absolutos. "
   ]
  },
  {
   "cell_type": "code",
   "execution_count": 20,
   "metadata": {},
   "outputs": [],
   "source": [
    "d1=input(\"Introduce la distancia del primer planeta al sol\")\n",
    "d2= input(\"Introduce la distancia del segundo planeta al sol\")"
   ]
  },
  {
   "cell_type": "code",
   "execution_count": 21,
   "metadata": {},
   "outputs": [],
   "source": [
    "e1=int(d1)\n",
    "e2=int(d2)"
   ]
  },
  {
   "cell_type": "code",
   "execution_count": 24,
   "metadata": {},
   "outputs": [
    {
     "name": "stdout",
     "output_type": "stream",
     "text": [
      "La distancia entre los dos planetas es 50300000 km o 31236300.0 mi\n"
     ]
    }
   ],
   "source": [
    "dep=e1-e2\n",
    "print('La distancia entre los dos planetas es',abs(dep),'km o', abs(dep*0.621),'mi')"
   ]
  }
 ],
 "metadata": {
  "interpreter": {
   "hash": "5dbfd558697415aff553bdce37ffa10cef4b45fe6bb8aec2bb0cb704b97b641d"
  },
  "kernelspec": {
   "display_name": "Python 3.10.2 64-bit",
   "language": "python",
   "name": "python3"
  },
  "language_info": {
   "codemirror_mode": {
    "name": "ipython",
    "version": 3
   },
   "file_extension": ".py",
   "mimetype": "text/x-python",
   "name": "python",
   "nbconvert_exporter": "python",
   "pygments_lexer": "ipython3",
   "version": "3.10.2"
  },
  "orig_nbformat": 4
 },
 "nbformat": 4,
 "nbformat_minor": 2
}
