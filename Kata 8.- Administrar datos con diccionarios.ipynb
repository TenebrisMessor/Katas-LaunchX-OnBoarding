{
 "cells": [
  {
   "cell_type": "markdown",
   "metadata": {},
   "source": [
    "Ejercicio 1.- Creación de diccionarios de Python"
   ]
  },
  {
   "cell_type": "code",
   "execution_count": 105,
   "metadata": {},
   "outputs": [],
   "source": [
    "planet= {\n",
    "    'name':'Mars',\n",
    "    'Moons': 2\n",
    "}\n"
   ]
  },
  {
   "cell_type": "code",
   "execution_count": 106,
   "metadata": {},
   "outputs": [
    {
     "name": "stdout",
     "output_type": "stream",
     "text": [
      "Nombre: Mars \n",
      "Moons#: 2\n"
     ]
    }
   ],
   "source": [
    "print(f\"Nombre: {planet.get('name')} \\nMoons#: {planet.get('Moons')}\")"
   ]
  },
  {
   "cell_type": "code",
   "execution_count": 107,
   "metadata": {},
   "outputs": [],
   "source": [
    "planet.update({\n",
    "    'polar': 6752,\n",
    "    'equatorial': 6792\n",
    "    })"
   ]
  },
  {
   "cell_type": "code",
   "execution_count": 108,
   "metadata": {},
   "outputs": [
    {
     "name": "stdout",
     "output_type": "stream",
     "text": [
      "El nombre del planeta es: Mars \n",
      "La circunferencia polar del planeta es: 6752\n"
     ]
    }
   ],
   "source": [
    "print(f\"El nombre del planeta es: {planet.get('name')} \\nLa circunferencia polar del planeta es: {planet.get('polar')}\")"
   ]
  },
  {
   "cell_type": "markdown",
   "metadata": {},
   "source": [
    "Ejercicio 2: Programación dinámica con diccionarios."
   ]
  },
  {
   "cell_type": "code",
   "execution_count": 109,
   "metadata": {},
   "outputs": [],
   "source": [
    "planet_moons = {\n",
    "    'mercury': 0,\n",
    "    'venus': 0,\n",
    "    'earth': 1,\n",
    "    'mars': 2,\n",
    "    'jupiter': 79,\n",
    "    'saturn': 82,\n",
    "    'uranus': 27,\n",
    "    'neptune': 14,\n",
    "    'pluto': 5,\n",
    "    'haumea': 2,\n",
    "    'makemake': 1,\n",
    "    'eris': 1\n",
    "}"
   ]
  },
  {
   "cell_type": "code",
   "execution_count": 110,
   "metadata": {},
   "outputs": [],
   "source": [
    "moons= planet_moons.values()\n",
    "planets=len(planet_moons.keys())\n",
    "  "
   ]
  },
  {
   "cell_type": "code",
   "execution_count": 111,
   "metadata": {},
   "outputs": [
    {
     "name": "stdout",
     "output_type": "stream",
     "text": [
      "El numero total de lunas es: 214 \n",
      "El promedio de lunas es: 17.833333333333332\n"
     ]
    }
   ],
   "source": [
    "total_moons=0\n",
    "for x in moons:\n",
    "    total_moons=total_moons+x\n",
    "promedio=total_moons/planets\n",
    "print(f\"El numero total de lunas es: {total_moons} \\nEl promedio de lunas es: {promedio}\")"
   ]
  }
 ],
 "metadata": {
  "interpreter": {
   "hash": "d94258037122a2312c9306c6e55d956ff9f209b3c2fa5e4a381cc7d7ac72683b"
  },
  "kernelspec": {
   "display_name": "Python 3.10.2 64-bit (windows store)",
   "language": "python",
   "name": "python3"
  },
  "language_info": {
   "codemirror_mode": {
    "name": "ipython",
    "version": 3
   },
   "file_extension": ".py",
   "mimetype": "text/x-python",
   "name": "python",
   "nbconvert_exporter": "python",
   "pygments_lexer": "ipython3",
   "version": "3.10.2"
  },
  "orig_nbformat": 4
 },
 "nbformat": 4,
 "nbformat_minor": 2
}
